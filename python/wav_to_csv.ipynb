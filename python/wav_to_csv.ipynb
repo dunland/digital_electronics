{
 "metadata": {
  "language_info": {
   "codemirror_mode": {
    "name": "ipython",
    "version": 3
   },
   "file_extension": ".py",
   "mimetype": "text/x-python",
   "name": "python",
   "nbconvert_exporter": "python",
   "pygments_lexer": "ipython3",
   "version": "3.10.4-final"
  },
  "orig_nbformat": 2,
  "kernelspec": {
   "name": "kernel_3.8",
   "display_name": "kernel_3.8"
  }
 },
 "nbformat": 4,
 "nbformat_minor": 2,
 "cells": [
  {
   "cell_type": "code",
   "execution_count": 1,
   "metadata": {},
   "outputs": [],
   "source": [
    "# from https://github.com/Lukious/wav-to-csv/blob/master/wav2csv.py\n",
    "\n",
    "import sys, os, os.path\n",
    "from scipy.io import wavfile\n",
    "import pandas as pd"
   ]
  },
  {
   "cell_type": "code",
   "execution_count": 3,
   "metadata": {},
   "outputs": [
    {
     "output_type": "stream",
     "name": "stdout",
     "text": [
      "Load is Done! \n",
      "\n",
      "Stereo .wav file\n",
      "\n",
      "Saving...\n",
      "\n",
      "Save is done /home/dav/Rhizophora/Jams und Demos/elektrosmoff-20201229_TobiDaviJaro_Output_stereo_R.csv , /home/dav/Rhizophora/Jams und Demos/elektrosmoff-20201229_TobiDaviJaro_Output_stereo_L.csv\n"
     ]
    }
   ],
   "source": [
    "input_filename = input(\"Input file path:\")\n",
    "if input_filename[-3:] != 'wav':\n",
    "    print('WARNING!! Input File format should be *.wav')\n",
    "    sys.exit()\n",
    "\n",
    "samrate, data = wavfile.read(input_filename)\n",
    "print('Load is Done! \\n')\n",
    "\n",
    "wavData = pd.DataFrame(data)\n",
    "\n",
    "if len(wavData.columns) == 2:\n",
    "    print('Stereo .wav file\\n')\n",
    "    wavData.columns = ['R', 'L']\n",
    "    stereo_R = pd.DataFrame(wavData['R'])\n",
    "    stereo_L = pd.DataFrame(wavData['L'])\n",
    "    print('Saving...\\n')\n",
    "    stereo_R.to_csv(str(input_filename[:-4] + \"_Output_stereo_R.csv\"), mode='w')\n",
    "    stereo_L.to_csv(str(input_filename[:-4] + \"_Output_stereo_L.csv\"), mode='w')\n",
    "    # wavData.to_csv(\"Output_stereo_RL.csv\", mode='w')\n",
    "    print('Save is done ' + str(input_filename[:-4]) + '_Output_stereo_R.csv , '\n",
    "                          + str(input_filename[:-4]) + '_Output_stereo_L.csv')\n",
    "\n",
    "elif len(wavData.columns) == 1:\n",
    "    print('Mono .wav file\\n')\n",
    "    wavData.columns = ['M']\n",
    "\n",
    "    wavData.to_csv(str(input_filename[:-4] + \"_Output_mono.csv\"), mode='w')\n",
    "\n",
    "    print('Save is done ' + str(input_filename[:-4]) + '_Output_mono.csv')\n",
    "\n",
    "else:\n",
    "    print('Multi channel .wav file\\n')\n",
    "    print('number of channel : ' + len(wavData.columns) + '\\n')\n",
    "    wavData.to_csv(str(input_filename[:-4] + \"Output_multi_channel.csv\"), mode='w')\n",
    "\n",
    "    print('Save is done ' + str(input_filename[:-4]) + 'Output_multi_channel.csv')"
   ]
  },
  {
   "cell_type": "code",
   "execution_count": null,
   "metadata": {},
   "outputs": [],
   "source": []
  }
 ]
}