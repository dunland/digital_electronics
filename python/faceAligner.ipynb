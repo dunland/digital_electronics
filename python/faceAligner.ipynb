{
 "cells": [
  {
   "cell_type": "code",
   "execution_count": 1,
   "metadata": {},
   "outputs": [],
   "source": [
    "# import the necessary packages\n",
    "from imutils.face_utils import FaceAligner\n",
    "from imutils.face_utils import rect_to_bb\n",
    "import argparse\n",
    "import imutils\n",
    "import dlib\n",
    "import cv2\n",
    "# construct the argument parser and parse the arguments"
   ]
  },
  {
   "cell_type": "code",
   "execution_count": 2,
   "metadata": {},
   "outputs": [
    {
     "name": "stdout",
     "output_type": "stream",
     "text": [
      "/home/dunland/github/digital_electronics/python\n"
     ]
    }
   ],
   "source": [
    "import os\n",
    "# os.chdir(\"..\")\n",
    "print(os.getcwd())"
   ]
  },
  {
   "cell_type": "code",
   "execution_count": 8,
   "metadata": {},
   "outputs": [
    {
     "name": "stdout",
     "output_type": "stream",
     "text": [
      "1\n"
     ]
    }
   ],
   "source": [
    "shape_predictor = \"face-align/shape_predictor_68_face_landmarks.dat\"\n",
    "image_path = \"/home/dunland/Pictures/jonas/01.jpeg\"\n",
    "\n",
    "# initialize dlib's face detector (HOG-based) and then create\n",
    "# the facial landmark predictor and the face aligner\n",
    "detector = dlib.get_frontal_face_detector()\n",
    "predictor = dlib.shape_predictor(shape_predictor)\n",
    "fa = FaceAligner(predictor, desiredFaceWidth=256)\n",
    "\n",
    "# load the input image, resize it, and convert it to grayscale\n",
    "image = cv2.imread(image_path)\n",
    "# image = imutils.resize(image, width=800)\n",
    "gray = cv2.cvtColor(image, cv2.COLOR_BGR2GRAY)\n",
    "# show the original input image and detect faces in the grayscale\n",
    "# image\n",
    "# cv2.imshow(\"Input\", image)\n",
    "rects = detector(gray, 2)\n",
    "cv2.waitKey(10)\n",
    "\n",
    "print(len(rects))"
   ]
  },
  {
   "cell_type": "code",
   "execution_count": 9,
   "metadata": {},
   "outputs": [],
   "source": [
    "# loop over the face detections\n",
    "for rect in rects:\n",
    "\t# extract the ROI of the *original* face, then align the face\n",
    "\t# using facial landmarks\n",
    "\t(x, y, w, h) = rect_to_bb(rect)\n",
    "\tfaceOrig = imutils.resize(image[y:y + h, x:x + w], width=256)\n",
    "\tfaceAligned = fa.align(image, gray, rect)\n",
    "\t# display the output images\n",
    "\tcv2.imshow(\"Original\", faceOrig)\n",
    "\tcv2.imshow(\"Aligned\", faceAligned)\n",
    "\tcv2.waitKey(10)"
   ]
  },
  {
   "cell_type": "code",
   "execution_count": null,
   "metadata": {},
   "outputs": [],
   "source": []
  }
 ],
 "metadata": {
  "kernelspec": {
   "display_name": "Python 3",
   "language": "python",
   "name": "python3"
  },
  "language_info": {
   "codemirror_mode": {
    "name": "ipython",
    "version": 3
   },
   "file_extension": ".py",
   "mimetype": "text/x-python",
   "name": "python",
   "nbconvert_exporter": "python",
   "pygments_lexer": "ipython3",
   "version": "3.10.7"
  },
  "orig_nbformat": 4,
  "vscode": {
   "interpreter": {
    "hash": "31f2aee4e71d21fbe5cf8b01ff0e069b9275f58929596ceb00d14d90e3e16cd6"
   }
  }
 },
 "nbformat": 4,
 "nbformat_minor": 2
}
